{
  "nbformat": 4,
  "nbformat_minor": 0,
  "metadata": {
    "colab": {
      "provenance": []
    },
    "kernelspec": {
      "name": "python3",
      "display_name": "Python 3"
    },
    "language_info": {
      "name": "python"
    }
  },
  "cells": [
    {
      "cell_type": "markdown",
      "source": [
        "**Statistics Basics| Assignment**\n",
        "\n",
        "Question 1: What is the difference between descriptive statistics and inferential statistics? Explain with examples.\n",
        " - Descriptive statistics involve methods to summarize, organize, and present data in a\n",
        "meaningful way, focusing on describing the characteristics of a dataset without making\n",
        "generalizations beyond it. These methods include measures of central tendency (e.g., mean,\n",
        "median, mode), measures of dispersion (e.g., range, variance, standard deviation), and data\n",
        "visualization techniques (e.g., histograms, pie charts).\n",
        "\n",
        "- Purpose: To provide a clear and concise summary of the data’s key features.\n",
        "\n",
        "-  Example: Suppose a researcher collects test scores from 50 students in a class. They\n",
        "calculate the average score (mean) as 75, the median as 73, and the standard\n",
        "deviation as 10. They also create a histogram to visualize the distribution of scores\n",
        "\n",
        "- Inferential statistics involve techniques that allow us to make generalizations, predictions, or\n",
        "conclusions about a population based on a sample of data. These methods rely on probability\n",
        "theory and include hypothesis testing, confidence intervals, and regression analysis to infer\n",
        "properties of a larger population.\n",
        "\n",
        " - Purpose: To draw conclusions or make predictions about a population based on\n",
        "sample data.\n",
        "\n",
        " - Example: Using the same test scores from 50 students, the researcher might want to infer whether the class’s performance reflects the performance of all students in the\n",
        "school (the population).\n",
        "\n",
        "- Key Differences:\n",
        "- Objective:\n",
        "   - Descriptive statistics aim to describe and summarize data (e.g., calculating the average height of students in a classroom).\n",
        "   - Inferential statistics aim to make predictions or generalizations about a\n",
        "  population (e.g., estimating the average height of all students in a school based on a sample).\n",
        "\n",
        "- Scope:\n",
        "  - Descriptive statistics are limited to the dataset at hand.\n",
        "  - Inferential statistics extend findings to a broader population.\n",
        "\n",
        "Question 2: What is sampling in statistics? Explain the differences between random and stratified sampling.\n",
        "\n",
        " - Sampling in statistics refers to the process of selecting a subset of individuals or units from a\n",
        "larger population to study and draw conclusions about that population\n",
        "\n",
        "- 1. Random Sampling:\n",
        "  - Random sampling, also known as simple random sampling, is a method where every\n",
        "individual or unit in the population has an equal and independent chance of being selected for\n",
        "the sample.\n",
        "\n",
        "- 2. Stratified Sampling:\n",
        "  - Stratified sampling involves dividing the population into distinct subgroups, or strata, based on\n",
        "a specific characteristic (e.g., age, gender, income level) and then randomly selecting\n",
        "samples from each stratum in proportion to its size in the population.\n",
        "\n",
        "- Key Differences:\n",
        "\n",
        "- Selection\n",
        "Process\n",
        "- Random Sampling:\n",
        "  - Every individual has an equal chance of selection, with no consideration of subgroups.\n",
        "\n",
        "\n",
        "- Stratified Sampling:\n",
        "  - The population is first divided into strata based on a characteristic,then random sampling is applied within each stratum.\n",
        "\n",
        "Question 3: Define mean, median, and mode. Explain why these measures of central tendency are important.\n",
        "\n",
        "- 1.Mean (Average):\n",
        "  - The mean is the sum of all values in a dataset divided by the total number of values.\n",
        "  - Mean =  Sum of all values​ / Number of values\n",
        "  - Example: For 5, 10, 15\n",
        "  - Mean = 5 + 10 + 15 / 3 = 10\n",
        "\n",
        "- 2.Median:\n",
        "  - The median is the middle value of an ordered dataset.\n",
        "  - If the number of values is odd → the median is the middle value.\n",
        "  - If the number of values is even → the median is the average of the two middle values.\n",
        "  - Example: For 2, 4, 6, 8, 10  Median = 6.\n",
        "  - For 2, 4, 6, 8 → Median = 4 + 6 / 2 = 5.\n",
        "\n",
        "- 3.Mode:\n",
        "  - The mode is the value that occurs most frequently in a dataset.\n",
        "  - A dataset can have no mode, one mode, or multiple modes.\n",
        "  - Example: For 3, 5, 5, 7, 8 → Mode = 5.  \n",
        "\n",
        "- Importance of Measures of Central Tendency:\n",
        "- 1.Simplifies Large Data\n",
        "  - Reduces complex datasets to a single representative value.\n",
        "- 2.Supports Decision-Making\n",
        "  - Guides business and policy decisions.\n",
        "- 3.Foundation for Advanced Analysis\n",
        "  - Forms basis for statistical tools like hypothesis testing, regression, etc.\n",
        "- 4.Enables Comparison\n",
        "  - Facilitates comparison across different groups or datasets.  \n",
        "\n",
        "Question 4: Explain skewness and kurtosis. What does a positive skew imply about the data?\n",
        "\n",
        "- Skewness\n",
        "  - Definition: Skewness measures the asymmetry of the data distribution around the mean.\n",
        "  - If data is perfectly symmetrical (like a normal distribution), skewness = 0.\n",
        "- Types:\n",
        "  - Positive skew (right-skewed): Tail is longer or fatter on the right (higher values).\n",
        "  - Negative skew (left-skewed): Tail is longer or fatter on the left (lower values)  \n",
        "  - Zero skew: Symmetric distribution.\n",
        "\n",
        "- Kurtosis\n",
        "  - Definition: Kurtosis measures the “tailedness” or the sharpness of the peak of a distribution compared to the normal distribution.\n",
        "- Types:\n",
        "  -  High kurtosis (leptokurtic): Heavy tails, more extreme values.\n",
        "  - Low kurtosis (platykurtic): Light tails, fewer extreme values.\n",
        "  - Normal kurtosis (mesokurtic): Similar to a normal distribution.\n",
        "\n",
        "- Positive Skew Implications:\n",
        "- A positive skew means:\n",
        "  - Data is concentrated on the lower values.\n",
        "  - A small number of unusually large values stretch the distribution to the right.\n",
        "  - The mean is pulled to the right, making it larger than the median.\n",
        "  - Interpretation: Most people score below the average, but a few extreme high values raise the mean.\n",
        "\n",
        "- Example: In exam marks, if most students score between 40–60 but a few get 95+, the distribution will be positively skewed.  \n",
        "\n"
      ],
      "metadata": {
        "id": "DgwCp8Sy3LQ7"
      }
    },
    {
      "cell_type": "code",
      "execution_count": null,
      "metadata": {
        "colab": {
          "base_uri": "https://localhost:8080/"
        },
        "id": "Ks8gp-g43ECc",
        "outputId": "778df011-10e6-4cb5-de30-479e673e9202"
      },
      "outputs": [
        {
          "output_type": "stream",
          "name": "stdout",
          "text": [
            "Numbers : [12, 15, 12, 18, 19, 12, 20, 22, 19, 19, 24, 24, 24, 26, 28]\n",
            "Mean : 19.6\n",
            "Median : 19\n",
            "Mode : 12\n"
          ]
        }
      ],
      "source": [
        "#Question 5: Implement a Python program to compute the mean, median, and mode of a given list of numbers.\n",
        "\n",
        "import statistics as stats\n",
        "\n",
        "numbers = [12, 15, 12, 18, 19, 12, 20, 22, 19, 19, 24, 24, 24, 26, 28]\n",
        "\n",
        "mean_value = stats.mean(numbers)\n",
        "\n",
        "median_value = stats.median(numbers)\n",
        "\n",
        "mode_value = stats.mode(numbers)\n",
        "\n",
        "print(\"Numbers :\",numbers)\n",
        "print(\"Mean :\",mean_value)\n",
        "print(\"Median :\",median_value)\n",
        "print(\"Mode :\",mode_value)"
      ]
    },
    {
      "cell_type": "code",
      "source": [
        "#Question 6:Compute the covariance and correlation coefficient between the following two datasets provided as lists in Python:\n",
        "\n",
        "list_x = [10, 20, 30, 40, 50]\n",
        "list_y = [15, 25, 35, 45, 60]\n",
        "\n",
        "import numpy as np\n",
        "\n",
        "list_x = [10, 20, 30, 40, 50]\n",
        "list_y = [15, 25, 35, 45, 60]\n",
        "\n",
        "# Covariance matrix\n",
        "cov_matrix = np.cov(list_x, list_y, bias=False)\n",
        "cov_xy = cov_matrix[0, 1]\n",
        "\n",
        "# Correlation coefficient\n",
        "corr_matrix = np.corrcoef(list_x, list_y)\n",
        "corr_xy = corr_matrix[0, 1]\n",
        "\n",
        "print(f\"Covariance: {cov_xy:.2f}\")\n",
        "print(f\"Correlation Coefficient: {corr_xy:.4f}\")\n"
      ],
      "metadata": {
        "id": "6_BFn0WRLwHW",
        "colab": {
          "base_uri": "https://localhost:8080/"
        },
        "outputId": "e299a53f-c1d0-45d1-91e1-cbc25bb68c4f"
      },
      "execution_count": null,
      "outputs": [
        {
          "output_type": "stream",
          "name": "stdout",
          "text": [
            "Covariance: 275.00\n",
            "Correlation Coefficient: 0.9959\n"
          ]
        }
      ]
    },
    {
      "cell_type": "code",
      "source": [
        "#Question 7: Write a Python script to draw a boxplot for the following numeric list and identify its outliers. Explain the result:\n",
        "\n",
        "import matplotlib.pyplot as plt\n",
        "import numpy as np\n",
        "\n",
        "data = [12, 14, 14, 15, 18, 19, 19, 21, 22, 22, 23, 23, 24, 26, 29, 35]\n",
        "\n",
        "plt.boxplot(data)\n",
        "plt.title(\"Boxplot of Data\")\n",
        "plt.ylabel(\"Values\")\n",
        "plt.show()\n",
        "\n",
        "Q1 = np.percentile(data,25)\n",
        "Q3 = np.percentile(data,75)\n",
        "IQR = Q3 - Q1\n",
        "\n",
        "lower_bound = Q1 - 1.5 * IQR\n",
        "upper_bound = Q3 + 1.5 * IQR\n",
        "\n",
        "outliers = [x for x in data if x < lower_bound or x > upper_bound]\n",
        "\n",
        "print(f\"Q1 = {Q1}\")\n",
        "print(f\"Q3 = {Q3}\")\n",
        "print(f\"IQR = {IQR}\")\n",
        "print(f\"lower_bound = {lower_bound}\")\n",
        "print(f\"upper_bound = {upper_bound}\")\n",
        "print(f\"outliers = {outliers}\")"
      ],
      "metadata": {
        "colab": {
          "base_uri": "https://localhost:8080/",
          "height": 556
        },
        "id": "WTI-3FJSTH6P",
        "outputId": "89886570-1cf9-49b1-b268-e54de6c1cc5a"
      },
      "execution_count": null,
      "outputs": [
        {
          "output_type": "display_data",
          "data": {
            "text/plain": [
              "<Figure size 640x480 with 1 Axes>"
            ],
            "image/png": "[encoded data removed]"
          },
          "metadata": {}
        },
        {
          "output_type": "stream",
          "name": "stdout",
          "text": [
            "Q1 = 17.25\n",
            "Q3 = 23.25\n",
            "IQR = 6.0\n",
            "lower_bound = 8.25\n",
            "upper_bound = 32.25\n",
            "outliers = [35]\n"
          ]
        }
      ]
    },
    {
      "cell_type": "code",
      "source": [
        "#Question 8: You are working as a data analyst in an e-commerce company. The marketing team wants to know if there is a relationship between advertising spend and daily sales.\n",
        "#● Explain how you would use covariance and correlation to explore this relationship.\n",
        "#● Write Python code to compute the correlation between the two lists:\n",
        "\n",
        "import numpy as np\n",
        "\n",
        "advertising_spend = [200, 250, 300, 400, 500]\n",
        "daily_sales = [2200, 2450, 2750, 3200, 4000]\n",
        "\n",
        "cov_matrix = np.cov(advertising_spend,daily_sales,bias=False)\n",
        "cov_xy = cov_matrix[0,1]\n",
        "\n",
        "corr_matrix = np.corrcoef(advertising_spend,daily_sales)\n",
        "corr_xy = corr_matrix[0,1]\n",
        "\n",
        "print(f\"Covariance {cov_xy:.2f}\")\n",
        "print(f\"Correlation Coefficient: {corr_xy:.3f}\")"
      ],
      "metadata": {
        "colab": {
          "base_uri": "https://localhost:8080/"
        },
        "id": "Peox9GpGUX4p",
        "outputId": "424ed992-1183-4df7-c6e8-1651a4096ed7"
      },
      "execution_count": null,
      "outputs": [
        {
          "output_type": "stream",
          "name": "stdout",
          "text": [
            "Covariance 84875.00\n",
            "Correlation Coefficient: 0.994\n"
          ]
        }
      ]
    },
    {
      "cell_type": "code",
      "source": [
        "#Question 9: Your team has collected customer satisfaction survey data on a scale of 1-10 and wants to understand its distribution before launching a new product.\n",
        "#● Explain which summary statistics and visualizations (e.g. mean, standard deviation, histogram) you’d use.\n",
        "#● Write Python code to create a histogram using Matplotlib for the survey data:\n",
        "\n",
        "import numpy as np\n",
        "import matplotlib.pyplot as plt\n",
        "from statistics import mean, median, mode, stdev\n",
        "\n",
        "survey_scores = [7, 8, 5, 9, 6, 7, 8, 9, 10, 4, 7, 6, 9, 8, 7]\n",
        "\n",
        "plt.hist(survey_scores, bins=10, edgecolor='black')\n",
        "plt.title(\"Customer Satisfaction Survey Distribution\")\n",
        "plt.xlabel(\"Satisfaction Score (1-10)\")\n",
        "plt.ylabel(\"Frequency\")\n",
        "plt.show()\n",
        "\n",
        "print(f\"Mean: {mean(survey_scores):.2f}\")\n",
        "print(f\"Median: {median(survey_scores)}\")\n",
        "print(f\"Mode: {mode(survey_scores)}\")\n",
        "print(f\"Minimum: {min(survey_scores)}\")\n",
        "print(f\"Maximum: {max(survey_scores)}\")\n",
        "print(f\"Standard Deviation: {stdev(survey_scores):.2f}\")\n"
      ],
      "metadata": {
        "colab": {
          "base_uri": "https://localhost:8080/",
          "height": 576
        },
        "id": "v46y5PrWZdz-",
        "outputId": "69917245-4008-4b7e-e2bc-feb9f08f7dc0"
      },
      "execution_count": null,
      "outputs": [
        {
          "output_type": "display_data",
          "data": {
            "text/plain": [
              "<Figure size 640x480 with 1 Axes>"
            ],
            "image/png": "[encoded data removed]"
          },
          "metadata": {}
        },
        {
          "output_type": "stream",
          "name": "stdout",
          "text": [
            "Mean: 7.33\n",
            "Median: 7\n",
            "Mode: 7\n",
            "Minimum: 4\n",
            "Maximum: 10\n",
            "Standard Deviation: 1.63\n"
          ]
        }
      ]
    },
    {
      "cell_type": "code",
      "source": [],
      "metadata": {
        "id": "VNWADSwLdWJB"
      },
      "execution_count": null,
      "outputs": []
    }
  ]
}